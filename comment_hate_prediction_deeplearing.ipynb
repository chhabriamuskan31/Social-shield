{
  "cells": [
    {
      "cell_type": "markdown",
      "id": "01d5961c",
      "metadata": {
        "papermill": {
          "duration": 0.016077,
          "end_time": "2023-02-23T07:54:26.479852",
          "exception": false,
          "start_time": "2023-02-23T07:54:26.463775",
          "status": "completed"
        },
        "tags": [],
        "id": "01d5961c"
      },
      "source": [
        "## Libraries"
      ]
    },
    {
      "cell_type": "code",
      "execution_count": 30,
      "id": "653afbc0",
      "metadata": {
        "_cell_guid": "b1076dfc-b9ad-4769-8c92-a6c4dae69d19",
        "_uuid": "8f2839f25d086af736a60e9eeb907d3b93b6e0e5",
        "execution": {
          "iopub.execute_input": "2023-02-23T07:54:26.504337Z",
          "iopub.status.busy": "2023-02-23T07:54:26.503787Z",
          "iopub.status.idle": "2023-02-23T07:54:33.930493Z",
          "shell.execute_reply": "2023-02-23T07:54:33.929455Z"
        },
        "papermill": {
          "duration": 7.441866,
          "end_time": "2023-02-23T07:54:33.933130",
          "exception": false,
          "start_time": "2023-02-23T07:54:26.491264",
          "status": "completed"
        },
        "tags": [],
        "id": "653afbc0"
      },
      "outputs": [],
      "source": [
        "import os\n",
        "import pandas as pd\n",
        "import numpy as np\n",
        "import tensorflow as tf\n",
        "\n",
        "# setting the column width to none to display full text of the comment\n",
        "pd.set_option('display.max_colwidth', None)\n",
        "\n",
        "# setting up GPUs\n",
        "gpus = tf.config.experimental.list_physical_devices('GPU')\n",
        "for gpu in gpus:\n",
        "    tf.config.experimental.set_memory_growth(gpu, True)"
      ]
    },
    {
      "cell_type": "markdown",
      "id": "5658528d",
      "metadata": {
        "papermill": {
          "duration": 0.011004,
          "end_time": "2023-02-23T07:54:33.955543",
          "exception": false,
          "start_time": "2023-02-23T07:54:33.944539",
          "status": "completed"
        },
        "tags": [],
        "id": "5658528d"
      },
      "source": [
        "## Importing Data\n"
      ]
    },
    {
      "cell_type": "code",
      "execution_count": 3,
      "id": "a355fd59",
      "metadata": {
        "execution": {
          "iopub.execute_input": "2023-02-23T07:54:33.980290Z",
          "iopub.status.busy": "2023-02-23T07:54:33.979029Z",
          "iopub.status.idle": "2023-02-23T07:54:35.592786Z",
          "shell.execute_reply": "2023-02-23T07:54:35.591806Z"
        },
        "papermill": {
          "duration": 1.628704,
          "end_time": "2023-02-23T07:54:35.595435",
          "exception": false,
          "start_time": "2023-02-23T07:54:33.966731",
          "status": "completed"
        },
        "tags": [],
        "id": "a355fd59"
      },
      "outputs": [],
      "source": [
        "data = pd.read_csv(\"/content/train.csv.zip\")"
      ]
    },
    {
      "cell_type": "code",
      "execution_count": 4,
      "id": "67b562f5",
      "metadata": {
        "execution": {
          "iopub.execute_input": "2023-02-23T07:54:35.620915Z",
          "iopub.status.busy": "2023-02-23T07:54:35.620088Z",
          "iopub.status.idle": "2023-02-23T07:54:35.665003Z",
          "shell.execute_reply": "2023-02-23T07:54:35.663823Z"
        },
        "papermill": {
          "duration": 0.061582,
          "end_time": "2023-02-23T07:54:35.668885",
          "exception": false,
          "start_time": "2023-02-23T07:54:35.607303",
          "status": "completed"
        },
        "tags": [],
        "colab": {
          "base_uri": "https://localhost:8080/"
        },
        "id": "67b562f5",
        "outputId": "9fcf321c-a794-4ec4-b691-7ac30b127bd7"
      },
      "outputs": [
        {
          "output_type": "stream",
          "name": "stdout",
          "text": [
            "<class 'pandas.core.frame.DataFrame'>\n",
            "RangeIndex: 159571 entries, 0 to 159570\n",
            "Data columns (total 8 columns):\n",
            " #   Column         Non-Null Count   Dtype \n",
            "---  ------         --------------   ----- \n",
            " 0   id             159571 non-null  object\n",
            " 1   comment_text   159571 non-null  object\n",
            " 2   toxic          159571 non-null  int64 \n",
            " 3   severe_toxic   159571 non-null  int64 \n",
            " 4   obscene        159571 non-null  int64 \n",
            " 5   threat         159571 non-null  int64 \n",
            " 6   insult         159571 non-null  int64 \n",
            " 7   identity_hate  159571 non-null  int64 \n",
            "dtypes: int64(6), object(2)\n",
            "memory usage: 9.7+ MB\n"
          ]
        }
      ],
      "source": [
        "data.info()"
      ]
    },
    {
      "cell_type": "code",
      "execution_count": 5,
      "id": "2d21928d",
      "metadata": {
        "execution": {
          "iopub.execute_input": "2023-02-23T07:54:35.694879Z",
          "iopub.status.busy": "2023-02-23T07:54:35.694569Z",
          "iopub.status.idle": "2023-02-23T07:54:35.718171Z",
          "shell.execute_reply": "2023-02-23T07:54:35.717237Z"
        },
        "papermill": {
          "duration": 0.03882,
          "end_time": "2023-02-23T07:54:35.720202",
          "exception": false,
          "start_time": "2023-02-23T07:54:35.681382",
          "status": "completed"
        },
        "tags": [],
        "colab": {
          "base_uri": "https://localhost:8080/",
          "height": 458
        },
        "id": "2d21928d",
        "outputId": "0f00fff5-2df0-4e3c-8fbc-2003adeb02d0"
      },
      "outputs": [
        {
          "output_type": "execute_result",
          "data": {
            "text/plain": [
              "                      id  \\\n",
              "98705   1000e093d62f4731   \n",
              "128903  b15ad896aee9ed7c   \n",
              "118793  7adbab3eb0f95913   \n",
              "107248  3d4ea4092721dfb9   \n",
              "44247   7629e6b88b80df94   \n",
              "\n",
              "                                                                                                                                                                                                                                                                                                                                                                                                                                                                                                                                                                                                                                                                                                                                                                                                                                                                                                  comment_text  \\\n",
              "98705                                                                                                                                                                                                                                                                                                                                                                                                                                                                                                                                                                                                                                                                                                                                         the world.  Just give it up mate you are a sad individual  kensington even more fucking sadder bet your an american as well do the owrld a favour  and get lostt   \n",
              "128903                                                                                                                                                                                                                                                                                                                                                                                                                                                                                                                                                                                                                                                                                                                                                                                                                                                               Chapter 8 footnote 168 and 168 WCR\\n\\nRPJ   \n",
              "118793                                                                                                                                                                                                                                                                                                                                                                                     \"\\nAlright, but just an update: I've just come across several Broadcast & Cable articles from '99 that have ratings info on almost all five of the series' original UPN episodes! (turns out they were way lower then I thought, lol) So, there's no rush for that info, I'm settled for now. Still, though, I'm a total n00b when it comes to ratings; I'm revising the pilot, so can you tell me if you know what a 1.4/2 Nielsen Rating translates to in numbers? Cheers, '''''' I am Jack's  lack of surprise \"   \n",
              "107248  Going by the chart at WP:CANVASS, I limited the scale to those users who had already contributed to that thread, phrased the notice as neutrally as my wordsmithing abilities would allow, and left a comment at the primary discussion that I had done so. Craftyminion left a comment at that thread at 01:50 2009-11-10 server time. If I omitted anyone, please let me know or notify them yourself.\\n I posted exactly the same message to the talkpage of everyone who had commented at that thread, with the exceptions of myself and Keepcalmandcarryon; example notification. My notification to KCACO also included an apology for notifying them of a thread to which they had recently contributed and may reasonably be assumed to be watching; given that that thread has been petering out, as long AN/I threads are wont to do, I decided to err on the side of caution. - 2/0 (cont.)   \n",
              "44247                                                                                                                                                                                                                                                                                                                                                                                                                                                                                                                                                                                                                                                                                                                                               Gu Kalia\\ngo watch some news, or just search those things online, and see if they are fake or not. go ahead. i challenge you. i just reverted your change.   \n",
              "\n",
              "        toxic  severe_toxic  obscene  threat  insult  identity_hate  \n",
              "98705       1             0        1       0       1              0  \n",
              "128903      0             0        0       0       0              0  \n",
              "118793      0             0        0       0       0              0  \n",
              "107248      0             0        0       0       0              0  \n",
              "44247       0             0        0       0       0              0  "
            ],
            "text/html": [
              "\n",
              "  <div id=\"df-f132f48d-4332-4b73-b496-7caa433ec98c\">\n",
              "    <div class=\"colab-df-container\">\n",
              "      <div>\n",
              "<style scoped>\n",
              "    .dataframe tbody tr th:only-of-type {\n",
              "        vertical-align: middle;\n",
              "    }\n",
              "\n",
              "    .dataframe tbody tr th {\n",
              "        vertical-align: top;\n",
              "    }\n",
              "\n",
              "    .dataframe thead th {\n",
              "        text-align: right;\n",
              "    }\n",
              "</style>\n",
              "<table border=\"1\" class=\"dataframe\">\n",
              "  <thead>\n",
              "    <tr style=\"text-align: right;\">\n",
              "      <th></th>\n",
              "      <th>id</th>\n",
              "      <th>comment_text</th>\n",
              "      <th>toxic</th>\n",
              "      <th>severe_toxic</th>\n",
              "      <th>obscene</th>\n",
              "      <th>threat</th>\n",
              "      <th>insult</th>\n",
              "      <th>identity_hate</th>\n",
              "    </tr>\n",
              "  </thead>\n",
              "  <tbody>\n",
              "    <tr>\n",
              "      <th>98705</th>\n",
              "      <td>1000e093d62f4731</td>\n",
              "      <td>the world.  Just give it up mate you are a sad individual  kensington even more fucking sadder bet your an american as well do the owrld a favour  and get lostt</td>\n",
              "      <td>1</td>\n",
              "      <td>0</td>\n",
              "      <td>1</td>\n",
              "      <td>0</td>\n",
              "      <td>1</td>\n",
              "      <td>0</td>\n",
              "    </tr>\n",
              "    <tr>\n",
              "      <th>128903</th>\n",
              "      <td>b15ad896aee9ed7c</td>\n",
              "      <td>Chapter 8 footnote 168 and 168 WCR\\n\\nRPJ</td>\n",
              "      <td>0</td>\n",
              "      <td>0</td>\n",
              "      <td>0</td>\n",
              "      <td>0</td>\n",
              "      <td>0</td>\n",
              "      <td>0</td>\n",
              "    </tr>\n",
              "    <tr>\n",
              "      <th>118793</th>\n",
              "      <td>7adbab3eb0f95913</td>\n",
              "      <td>\"\\nAlright, but just an update: I've just come across several Broadcast &amp; Cable articles from '99 that have ratings info on almost all five of the series' original UPN episodes! (turns out they were way lower then I thought, lol) So, there's no rush for that info, I'm settled for now. Still, though, I'm a total n00b when it comes to ratings; I'm revising the pilot, so can you tell me if you know what a 1.4/2 Nielsen Rating translates to in numbers? Cheers, '''''' I am Jack's  lack of surprise \"</td>\n",
              "      <td>0</td>\n",
              "      <td>0</td>\n",
              "      <td>0</td>\n",
              "      <td>0</td>\n",
              "      <td>0</td>\n",
              "      <td>0</td>\n",
              "    </tr>\n",
              "    <tr>\n",
              "      <th>107248</th>\n",
              "      <td>3d4ea4092721dfb9</td>\n",
              "      <td>Going by the chart at WP:CANVASS, I limited the scale to those users who had already contributed to that thread, phrased the notice as neutrally as my wordsmithing abilities would allow, and left a comment at the primary discussion that I had done so. Craftyminion left a comment at that thread at 01:50 2009-11-10 server time. If I omitted anyone, please let me know or notify them yourself.\\n I posted exactly the same message to the talkpage of everyone who had commented at that thread, with the exceptions of myself and Keepcalmandcarryon; example notification. My notification to KCACO also included an apology for notifying them of a thread to which they had recently contributed and may reasonably be assumed to be watching; given that that thread has been petering out, as long AN/I threads are wont to do, I decided to err on the side of caution. - 2/0 (cont.)</td>\n",
              "      <td>0</td>\n",
              "      <td>0</td>\n",
              "      <td>0</td>\n",
              "      <td>0</td>\n",
              "      <td>0</td>\n",
              "      <td>0</td>\n",
              "    </tr>\n",
              "    <tr>\n",
              "      <th>44247</th>\n",
              "      <td>7629e6b88b80df94</td>\n",
              "      <td>Gu Kalia\\ngo watch some news, or just search those things online, and see if they are fake or not. go ahead. i challenge you. i just reverted your change.</td>\n",
              "      <td>0</td>\n",
              "      <td>0</td>\n",
              "      <td>0</td>\n",
              "      <td>0</td>\n",
              "      <td>0</td>\n",
              "      <td>0</td>\n",
              "    </tr>\n",
              "  </tbody>\n",
              "</table>\n",
              "</div>\n",
              "      <button class=\"colab-df-convert\" onclick=\"convertToInteractive('df-f132f48d-4332-4b73-b496-7caa433ec98c')\"\n",
              "              title=\"Convert this dataframe to an interactive table.\"\n",
              "              style=\"display:none;\">\n",
              "        \n",
              "  <svg xmlns=\"http://www.w3.org/2000/svg\" height=\"24px\"viewBox=\"0 0 24 24\"\n",
              "       width=\"24px\">\n",
              "    <path d=\"M0 0h24v24H0V0z\" fill=\"none\"/>\n",
              "    <path d=\"M18.56 5.44l.94 2.06.94-2.06 2.06-.94-2.06-.94-.94-2.06-.94 2.06-2.06.94zm-11 1L8.5 8.5l.94-2.06 2.06-.94-2.06-.94L8.5 2.5l-.94 2.06-2.06.94zm10 10l.94 2.06.94-2.06 2.06-.94-2.06-.94-.94-2.06-.94 2.06-2.06.94z\"/><path d=\"M17.41 7.96l-1.37-1.37c-.4-.4-.92-.59-1.43-.59-.52 0-1.04.2-1.43.59L10.3 9.45l-7.72 7.72c-.78.78-.78 2.05 0 2.83L4 21.41c.39.39.9.59 1.41.59.51 0 1.02-.2 1.41-.59l7.78-7.78 2.81-2.81c.8-.78.8-2.07 0-2.86zM5.41 20L4 18.59l7.72-7.72 1.47 1.35L5.41 20z\"/>\n",
              "  </svg>\n",
              "      </button>\n",
              "      \n",
              "  <style>\n",
              "    .colab-df-container {\n",
              "      display:flex;\n",
              "      flex-wrap:wrap;\n",
              "      gap: 12px;\n",
              "    }\n",
              "\n",
              "    .colab-df-convert {\n",
              "      background-color: #E8F0FE;\n",
              "      border: none;\n",
              "      border-radius: 50%;\n",
              "      cursor: pointer;\n",
              "      display: none;\n",
              "      fill: #1967D2;\n",
              "      height: 32px;\n",
              "      padding: 0 0 0 0;\n",
              "      width: 32px;\n",
              "    }\n",
              "\n",
              "    .colab-df-convert:hover {\n",
              "      background-color: #E2EBFA;\n",
              "      box-shadow: 0px 1px 2px rgba(60, 64, 67, 0.3), 0px 1px 3px 1px rgba(60, 64, 67, 0.15);\n",
              "      fill: #174EA6;\n",
              "    }\n",
              "\n",
              "    [theme=dark] .colab-df-convert {\n",
              "      background-color: #3B4455;\n",
              "      fill: #D2E3FC;\n",
              "    }\n",
              "\n",
              "    [theme=dark] .colab-df-convert:hover {\n",
              "      background-color: #434B5C;\n",
              "      box-shadow: 0px 1px 3px 1px rgba(0, 0, 0, 0.15);\n",
              "      filter: drop-shadow(0px 1px 2px rgba(0, 0, 0, 0.3));\n",
              "      fill: #FFFFFF;\n",
              "    }\n",
              "  </style>\n",
              "\n",
              "      <script>\n",
              "        const buttonEl =\n",
              "          document.querySelector('#df-f132f48d-4332-4b73-b496-7caa433ec98c button.colab-df-convert');\n",
              "        buttonEl.style.display =\n",
              "          google.colab.kernel.accessAllowed ? 'block' : 'none';\n",
              "\n",
              "        async function convertToInteractive(key) {\n",
              "          const element = document.querySelector('#df-f132f48d-4332-4b73-b496-7caa433ec98c');\n",
              "          const dataTable =\n",
              "            await google.colab.kernel.invokeFunction('convertToInteractive',\n",
              "                                                     [key], {});\n",
              "          if (!dataTable) return;\n",
              "\n",
              "          const docLinkHtml = 'Like what you see? Visit the ' +\n",
              "            '<a target=\"_blank\" href=https://colab.research.google.com/notebooks/data_table.ipynb>data table notebook</a>'\n",
              "            + ' to learn more about interactive tables.';\n",
              "          element.innerHTML = '';\n",
              "          dataTable['output_type'] = 'display_data';\n",
              "          await google.colab.output.renderOutput(dataTable, element);\n",
              "          const docLink = document.createElement('div');\n",
              "          docLink.innerHTML = docLinkHtml;\n",
              "          element.appendChild(docLink);\n",
              "        }\n",
              "      </script>\n",
              "    </div>\n",
              "  </div>\n",
              "  "
            ]
          },
          "metadata": {},
          "execution_count": 5
        }
      ],
      "source": [
        "data.sample(5)"
      ]
    },
    {
      "cell_type": "markdown",
      "id": "2632a7c8",
      "metadata": {
        "papermill": {
          "duration": 0.011488,
          "end_time": "2023-02-23T07:54:35.743377",
          "exception": false,
          "start_time": "2023-02-23T07:54:35.731889",
          "status": "completed"
        },
        "tags": [],
        "id": "2632a7c8"
      },
      "source": [
        "Lets look at some of the toxic comments\n"
      ]
    },
    {
      "cell_type": "code",
      "execution_count": 6,
      "id": "e70a3640",
      "metadata": {
        "execution": {
          "iopub.execute_input": "2023-02-23T07:54:35.768076Z",
          "iopub.status.busy": "2023-02-23T07:54:35.767720Z",
          "iopub.status.idle": "2023-02-23T07:54:35.784614Z",
          "shell.execute_reply": "2023-02-23T07:54:35.783715Z"
        },
        "papermill": {
          "duration": 0.032923,
          "end_time": "2023-02-23T07:54:35.787808",
          "exception": false,
          "start_time": "2023-02-23T07:54:35.754885",
          "status": "completed"
        },
        "tags": [],
        "colab": {
          "base_uri": "https://localhost:8080/",
          "height": 1000
        },
        "id": "e70a3640",
        "outputId": "974c41b2-8732-45ac-864d-b7b28fbc9c5b"
      },
      "outputs": [
        {
          "output_type": "execute_result",
          "data": {
            "text/plain": [
              "                      id  \\\n",
              "137571  e027d1e7c3589a57   \n",
              "46556   7c63fc6015529a59   \n",
              "102509  2498248e712000ec   \n",
              "99202   12a5ad583296b545   \n",
              "36778   62399956a195230e   \n",
              "\n",
              "                                                                                                                                                                                                                                                                                                                                                                                                                                                                                                                                                                                                                                                                                                                                                                                                                                                                                                                                                                                                                                                                                                                                                                                                                                                                                                                                                                                                                                                                                                                                                                                                                                                                                                                                                                                                                                                                                                                                                                                                                                                                                                                                                                                                                                                                                                                                                                                                                                                                                                                                                                                                                                                                                                                                                                                                                                                                                                                                                                                                                                                                                                                                                                                                                                                                                                                                                                                                                                                                                                                                                                                                                                                                                                                                                                                                                                                                                                                                                                                                                                                                                                                                                                                                                                                                   comment_text  \\\n",
              "137571                                                                                                                                                                                                                                                                                                                                                                                                                                                                                                                                                                                                                                                                                                                                                                                                                                                                                                                                                                                                                                                                                                                                                                                                                                                                                                                                                                                                                                                                                                                                                                                                                                                                                                                                                                                                                                                                                                                                                                                                                                                                                                                                                                                                                                                                                                                                                                                                                                                                                                                                                                                                                                                                                                                                                                                                                                                                                                                                                                                                                                                                                                                                                                                                                                                                                                                                                                                                                                                                                                                                                                                                                                                                                                                                                                                                                                                                                                                                                                                                                                                                                                                                                                                       Make that four, fifth is underway.  This is rediculous!   18:32, 29 Dec 2004 (UTC)   \n",
              "46556                                                                                                                                                                                                                                                                                                                                                                                                                                                                                                                                                                                                                                                                                                                                                                                                                                                                                                                                                                                                                                                                                                                                                                                                                                                                                                                                                                                                                                                                                                                                                                                                                                                                                                                                                                                                                                                                                                                                                                                                                                                                                                                                                                                                                                                                                                                                                                                                                                                                                                                                                                                                                                                                                                                                                                                                                                                                                                                                                                                                                                                                                                                                                                                                                                                                                                                                                                                                                                                                                                                                                                                                                                                                                                                                                                                                                                                                                                                                                                                                                   DIFFERENT IP ADDRESS - 90.196.78.205   - SEE WHAT I MEAN !  BAN WHAT BAN ?\\n\\nGO GET YOURSELF A REAL LIFE INSTEAD OF OBSESSIVELY HANGING AROUND WIKIPEDIA DELUDING YOURSELF OF PETTY POWERS WEHN YOU OBVIOUSLY CAN'T ASSERT YOURSELF IN THE REAL WORLD.   \n",
              "102509                                                                                                                                                                                                                                                                                                                                                                                                                                                                                                                                                                                                                                                                                                                                                                                                                                                                                                                                                                                                                                                                                                                                                                                                                                                                                                                                                                                                                                                                                                                                                                                                                                                                                                                                                                                                                                                                                                                                                                                                                                                                                                                                                                                                                                                                                                                                                                                                                                                                                                                                                                                                                                                                                                                                                                                                                                                                                                                                                                                                                                                                                                                                                                                                                                                                                                                                                                                                                                                                                                                                                                                                                                                                                                                                                                                                                                                                                                                                                                                                                                                        STOP GETTING RID OF THE FLAGS! THEY HAVE BEEN IN THE UFC WIKI PAGES EVER SINCE THE START! THEY EVEN SHOW THE FLAGS IN TALE OF THE TAPE! Annoying cunts like yourself are the reason people say Wikipedia is shit.   \n",
              "99202                                                                                                                                                                                                                                                                                                                                                                                                                                                                                                                                                                                                                                                                                                                                                                                                                                                                                                                                                                                                                                                                                                                                                                                                                                                                                                                                                                                                                                                                                                                                                                                                                                                                                                                                                                                                                                                                                                                                                                                                                                                                                                                                                                                                                                                                                                                                                                                                                                                                                                                                                                                                                                                                                                                                                                                                                                                                                                                                                                                                                                                                                                                                                                                                                                                                                                                                                                                                                                                                                                                                                                                                                                                                                                                                                                                                                                                                                                                                                                                                                                                                                                                                                                                                                                         Fuck you bitch \\n\\nFuck you bitch   \n",
              "36778   Do I know you? ==BeCauSe You aRe a FGGT!\\n Do I know you? BeCauSe You aRe a FGGT!\\n Do I know you? BeCauSe You aRe a FGGT!\\n Do I know you? BeCauSe You aRe a FGGT!\\n Do I know you? BeCauSe You aRe a FGGT!\\n Do I know you? BeCauSe You aRe a FGGT!\\n Do I know you? BeCauSe You aRe a FGGT!\\n Do I know you? BeCauSe You aRe a FGGT!\\n Do I know you? BeCauSe You aRe a FGGT!\\n Do I know you? BeCauSe You aRe a FGGT!\\n Do I know you? BeCauSe You aRe a FGGT!\\n Do I know you? BeCauSe You aRe a FGGT!\\n Do I know you? BeCauSe You aRe a FGGT!\\n Do I know you? BeCauSe You aRe a FGGT!\\n Do I know you? BeCauSe You aRe a FGGT!\\n Do I know you? BeCauSe You aRe a FGGT!\\n Do I know you? BeCauSe You aRe a FGGT!\\n Do I know you? BeCauSe You aRe a FGGT!\\n Do I know you? BeCauSe You aRe a FGGT!\\n Do I know you? BeCauSe You aRe a FGGT!\\n Do I know you? BeCauSe You aRe a FGGT!\\n Do I know you? BeCauSe You aRe a FGGT!\\n Do I know you? BeCauSe You aRe a FGGT!\\n Do I know you? BeCauSe You aRe a FGGT!\\n Do I know you? BeCauSe You aRe a FGGT!\\n Do I know you? BeCauSe You aRe a FGGT!\\n Do I know you? BeCauSe You aRe a FGGT!\\n Do I know you? BeCauSe You aRe a FGGT!\\n Do I know you? BeCauSe You aRe a FGGT!\\n Do I know you? BeCauSe You aRe a FGGT!\\n Do I know you? BeCauSe You aRe a FGGT!\\n Do I know you? BeCauSe You aRe a FGGT!\\n Do I know you? BeCauSe You aRe a FGGT!\\n Do I know you? BeCauSe You aRe a FGGT!\\n Do I know you? BeCauSe You aRe a FGGT!\\n Do I know you? BeCauSe You aRe a FGGT!\\n Do I know you? BeCauSe You aRe a FGGT!\\n Do I know you? BeCauSe You aRe a FGGT!\\n Do I know you? BeCauSe You aRe a FGGT!\\n Do I know you? BeCauSe You aRe a FGGT!\\n Do I know you? BeCauSe You aRe a FGGT!\\n Do I know you? BeCauSe You aRe a FGGT!\\n Do I know you? BeCauSe You aRe a FGGT!\\n Do I know you? BeCauSe You aRe a FGGT!\\n Do I know you? BeCauSe You aRe a FGGT!\\n Do I know you? BeCauSe You aRe a FGGT!\\n Do I know you? BeCauSe You aRe a FGGT!\\n Do I know you? BeCauSe You aRe a FGGT!\\n Do I know you? BeCauSe You aRe a FGGT!\\n Do I know you? BeCauSe You aRe a FGGT!\\n Do I know you? BeCauSe You aRe a FGGT!\\n Do I know you? BeCauSe You aRe a FGGT!\\n Do I know you? BeCauSe You aRe a FGGT!\\n Do I know you? BeCauSe You aRe a FGGT!\\n Do I know you? BeCauSe You aRe a FGGT!\\n Do I know you? BeCauSe You aRe a FGGT!\\n Do I know you? BeCauSe You aRe a FGGT!\\n Do I know you? BeCauSe You aRe a FGGT!\\n Do I know you? BeCauSe You aRe a FGGT!\\n Do I know you? BeCauSe You aRe a FGGT!\\n Do I know you? BeCauSe You aRe a FGGT!\\n Do I know you? BeCauSe You aRe a FGGT!\\n Do I know you? BeCauSe You aRe a FGGT!\\n Do I know you? BeCauSe You aRe a FGGT!\\n Do I know you? BeCauSe You aRe a FGGT!\\n Do I know you? BeCauSe You aRe a FGGT!\\n Do I know you? BeCauSe You aRe a FGGT!\\n Do I know you? BeCauSe You aRe a FGGT!\\n Do I know you? BeCauSe You aRe a FGGT!\\n Do I know you? BeCauSe You aRe a FGGT!\\n Do I know you? BeCauSe You aRe a FGGT!\\n Do I know you? BeCauSe You aRe a FGGT!\\n Do I know you? BeCauSe You aRe a FGGT!\\n Do I know you? BeCauSe You aRe a FGGT!\\n Do I know you? BeCauSe You aRe a FGGT!\\n Do I know you? BeCauSe You aRe a FGGT!\\n Do I know you? BeCauSe You aRe a FGGT!\\n Do I know you? BeCauSe You aRe a FGGT!\\n Do I know you? BeCauSe You aRe a FGGT!\\n Do I know you? BeCauSe You aRe a FGGT!\\n Do I know you? BeCauSe You aRe a FGGT!\\n Do I know you? BeCauSe You aRe a FGGT!\\n Do I know you? BeCauSe You aRe a FGGT!\\n Do I know you? BeCauSe You aRe a FGGT!\\n Do I know you? BeCauSe You aRe a FGGT!\\n Do I know you? BeCauSe You aRe a FGGT!\\n Do I know you? BeCauSe You aRe a FGGT!\\n Do I know you? BeCauSe You aRe a FGGT!\\n Do I know you? BeCauSe You aRe a FGGT!\\n Do I know you? BeCauSe You aRe a FGGT!\\n Do I know you? BeCauSe You aRe a FGGT!\\n Do I know you? BeCauSe You aRe a FGGT!\\n Do I know you? BeCauSe You aRe a FGGT!\\n Do I know you? BeCauSe You aRe a FGGT!\\n Do I know you? BeCauSe You aRe a FGGT!\\n Do I know you? BeCauSe You aRe a FGGT!\\n Do I know you? BeCauSe You aRe a FGGT!\\n Do I know you? BeCauSe You aRe a FGGT!\\n Do I know you? BeCauSe You aRe a FGGT!\\n Do I know you? BeCauSe You aRe a FGGT!\\n==   \n",
              "\n",
              "        toxic  severe_toxic  obscene  threat  insult  identity_hate  \n",
              "137571      1             0        0       0       0              0  \n",
              "46556       1             0        0       0       0              0  \n",
              "102509      1             0        0       0       0              0  \n",
              "99202       1             1        1       0       1              0  \n",
              "36778       1             0        0       0       0              0  "
            ],
            "text/html": [
              "\n",
              "  <div id=\"df-9065835c-2322-4bf4-8e51-f1e11f7a5073\">\n",
              "    <div class=\"colab-df-container\">\n",
              "      <div>\n",
              "<style scoped>\n",
              "    .dataframe tbody tr th:only-of-type {\n",
              "        vertical-align: middle;\n",
              "    }\n",
              "\n",
              "    .dataframe tbody tr th {\n",
              "        vertical-align: top;\n",
              "    }\n",
              "\n",
              "    .dataframe thead th {\n",
              "        text-align: right;\n",
              "    }\n",
              "</style>\n",
              "<table border=\"1\" class=\"dataframe\">\n",
              "  <thead>\n",
              "    <tr style=\"text-align: right;\">\n",
              "      <th></th>\n",
              "      <th>id</th>\n",
              "      <th>comment_text</th>\n",
              "      <th>toxic</th>\n",
              "      <th>severe_toxic</th>\n",
              "      <th>obscene</th>\n",
              "      <th>threat</th>\n",
              "      <th>insult</th>\n",
              "      <th>identity_hate</th>\n",
              "    </tr>\n",
              "  </thead>\n",
              "  <tbody>\n",
              "    <tr>\n",
              "      <th>137571</th>\n",
              "      <td>e027d1e7c3589a57</td>\n",
              "      <td>Make that four, fifth is underway.  This is rediculous!   18:32, 29 Dec 2004 (UTC)</td>\n",
              "      <td>1</td>\n",
              "      <td>0</td>\n",
              "      <td>0</td>\n",
              "      <td>0</td>\n",
              "      <td>0</td>\n",
              "      <td>0</td>\n",
              "    </tr>\n",
              "    <tr>\n",
              "      <th>46556</th>\n",
              "      <td>7c63fc6015529a59</td>\n",
              "      <td>DIFFERENT IP ADDRESS - 90.196.78.205   - SEE WHAT I MEAN !  BAN WHAT BAN ?\\n\\nGO GET YOURSELF A REAL LIFE INSTEAD OF OBSESSIVELY HANGING AROUND WIKIPEDIA DELUDING YOURSELF OF PETTY POWERS WEHN YOU OBVIOUSLY CAN'T ASSERT YOURSELF IN THE REAL WORLD.</td>\n",
              "      <td>1</td>\n",
              "      <td>0</td>\n",
              "      <td>0</td>\n",
              "      <td>0</td>\n",
              "      <td>0</td>\n",
              "      <td>0</td>\n",
              "    </tr>\n",
              "    <tr>\n",
              "      <th>102509</th>\n",
              "      <td>2498248e712000ec</td>\n",
              "      <td>STOP GETTING RID OF THE FLAGS! THEY HAVE BEEN IN THE UFC WIKI PAGES EVER SINCE THE START! THEY EVEN SHOW THE FLAGS IN TALE OF THE TAPE! Annoying cunts like yourself are the reason people say Wikipedia is shit.</td>\n",
              "      <td>1</td>\n",
              "      <td>0</td>\n",
              "      <td>0</td>\n",
              "      <td>0</td>\n",
              "      <td>0</td>\n",
              "      <td>0</td>\n",
              "    </tr>\n",
              "    <tr>\n",
              "      <th>99202</th>\n",
              "      <td>12a5ad583296b545</td>\n",
              "      <td>Fuck you bitch \\n\\nFuck you bitch</td>\n",
              "      <td>1</td>\n",
              "      <td>1</td>\n",
              "      <td>1</td>\n",
              "      <td>0</td>\n",
              "      <td>1</td>\n",
              "      <td>0</td>\n",
              "    </tr>\n",
              "    <tr>\n",
              "      <th>36778</th>\n",
              "      <td>62399956a195230e</td>\n",
              "      <td>Do I know you? ==BeCauSe You aRe a FGGT!\\n Do I know you? BeCauSe You aRe a FGGT!\\n Do I know you? BeCauSe You aRe a FGGT!\\n Do I know you? BeCauSe You aRe a FGGT!\\n Do I know you? BeCauSe You aRe a FGGT!\\n Do I know you? BeCauSe You aRe a FGGT!\\n Do I know you? BeCauSe You aRe a FGGT!\\n Do I know you? BeCauSe You aRe a FGGT!\\n Do I know you? BeCauSe You aRe a FGGT!\\n Do I know you? BeCauSe You aRe a FGGT!\\n Do I know you? BeCauSe You aRe a FGGT!\\n Do I know you? BeCauSe You aRe a FGGT!\\n Do I know you? BeCauSe You aRe a FGGT!\\n Do I know you? BeCauSe You aRe a FGGT!\\n Do I know you? BeCauSe You aRe a FGGT!\\n Do I know you? BeCauSe You aRe a FGGT!\\n Do I know you? BeCauSe You aRe a FGGT!\\n Do I know you? BeCauSe You aRe a FGGT!\\n Do I know you? BeCauSe You aRe a FGGT!\\n Do I know you? BeCauSe You aRe a FGGT!\\n Do I know you? BeCauSe You aRe a FGGT!\\n Do I know you? BeCauSe You aRe a FGGT!\\n Do I know you? BeCauSe You aRe a FGGT!\\n Do I know you? BeCauSe You aRe a FGGT!\\n Do I know you? BeCauSe You aRe a FGGT!\\n Do I know you? BeCauSe You aRe a FGGT!\\n Do I know you? BeCauSe You aRe a FGGT!\\n Do I know you? BeCauSe You aRe a FGGT!\\n Do I know you? BeCauSe You aRe a FGGT!\\n Do I know you? BeCauSe You aRe a FGGT!\\n Do I know you? BeCauSe You aRe a FGGT!\\n Do I know you? BeCauSe You aRe a FGGT!\\n Do I know you? BeCauSe You aRe a FGGT!\\n Do I know you? BeCauSe You aRe a FGGT!\\n Do I know you? BeCauSe You aRe a FGGT!\\n Do I know you? BeCauSe You aRe a FGGT!\\n Do I know you? BeCauSe You aRe a FGGT!\\n Do I know you? BeCauSe You aRe a FGGT!\\n Do I know you? BeCauSe You aRe a FGGT!\\n Do I know you? BeCauSe You aRe a FGGT!\\n Do I know you? BeCauSe You aRe a FGGT!\\n Do I know you? BeCauSe You aRe a FGGT!\\n Do I know you? BeCauSe You aRe a FGGT!\\n Do I know you? BeCauSe You aRe a FGGT!\\n Do I know you? BeCauSe You aRe a FGGT!\\n Do I know you? BeCauSe You aRe a FGGT!\\n Do I know you? BeCauSe You aRe a FGGT!\\n Do I know you? BeCauSe You aRe a FGGT!\\n Do I know you? BeCauSe You aRe a FGGT!\\n Do I know you? BeCauSe You aRe a FGGT!\\n Do I know you? BeCauSe You aRe a FGGT!\\n Do I know you? BeCauSe You aRe a FGGT!\\n Do I know you? BeCauSe You aRe a FGGT!\\n Do I know you? BeCauSe You aRe a FGGT!\\n Do I know you? BeCauSe You aRe a FGGT!\\n Do I know you? BeCauSe You aRe a FGGT!\\n Do I know you? BeCauSe You aRe a FGGT!\\n Do I know you? BeCauSe You aRe a FGGT!\\n Do I know you? BeCauSe You aRe a FGGT!\\n Do I know you? BeCauSe You aRe a FGGT!\\n Do I know you? BeCauSe You aRe a FGGT!\\n Do I know you? BeCauSe You aRe a FGGT!\\n Do I know you? BeCauSe You aRe a FGGT!\\n Do I know you? BeCauSe You aRe a FGGT!\\n Do I know you? BeCauSe You aRe a FGGT!\\n Do I know you? BeCauSe You aRe a FGGT!\\n Do I know you? BeCauSe You aRe a FGGT!\\n Do I know you? BeCauSe You aRe a FGGT!\\n Do I know you? BeCauSe You aRe a FGGT!\\n Do I know you? BeCauSe You aRe a FGGT!\\n Do I know you? BeCauSe You aRe a FGGT!\\n Do I know you? BeCauSe You aRe a FGGT!\\n Do I know you? BeCauSe You aRe a FGGT!\\n Do I know you? BeCauSe You aRe a FGGT!\\n Do I know you? BeCauSe You aRe a FGGT!\\n Do I know you? BeCauSe You aRe a FGGT!\\n Do I know you? BeCauSe You aRe a FGGT!\\n Do I know you? BeCauSe You aRe a FGGT!\\n Do I know you? BeCauSe You aRe a FGGT!\\n Do I know you? BeCauSe You aRe a FGGT!\\n Do I know you? BeCauSe You aRe a FGGT!\\n Do I know you? BeCauSe You aRe a FGGT!\\n Do I know you? BeCauSe You aRe a FGGT!\\n Do I know you? BeCauSe You aRe a FGGT!\\n Do I know you? BeCauSe You aRe a FGGT!\\n Do I know you? BeCauSe You aRe a FGGT!\\n Do I know you? BeCauSe You aRe a FGGT!\\n Do I know you? BeCauSe You aRe a FGGT!\\n Do I know you? BeCauSe You aRe a FGGT!\\n Do I know you? BeCauSe You aRe a FGGT!\\n Do I know you? BeCauSe You aRe a FGGT!\\n Do I know you? BeCauSe You aRe a FGGT!\\n Do I know you? BeCauSe You aRe a FGGT!\\n Do I know you? BeCauSe You aRe a FGGT!\\n Do I know you? BeCauSe You aRe a FGGT!\\n Do I know you? BeCauSe You aRe a FGGT!\\n Do I know you? BeCauSe You aRe a FGGT!\\n Do I know you? BeCauSe You aRe a FGGT!\\n Do I know you? BeCauSe You aRe a FGGT!\\n Do I know you? BeCauSe You aRe a FGGT!\\n==</td>\n",
              "      <td>1</td>\n",
              "      <td>0</td>\n",
              "      <td>0</td>\n",
              "      <td>0</td>\n",
              "      <td>0</td>\n",
              "      <td>0</td>\n",
              "    </tr>\n",
              "  </tbody>\n",
              "</table>\n",
              "</div>\n",
              "      <button class=\"colab-df-convert\" onclick=\"convertToInteractive('df-9065835c-2322-4bf4-8e51-f1e11f7a5073')\"\n",
              "              title=\"Convert this dataframe to an interactive table.\"\n",
              "              style=\"display:none;\">\n",
              "        \n",
              "  <svg xmlns=\"http://www.w3.org/2000/svg\" height=\"24px\"viewBox=\"0 0 24 24\"\n",
              "       width=\"24px\">\n",
              "    <path d=\"M0 0h24v24H0V0z\" fill=\"none\"/>\n",
              "    <path d=\"M18.56 5.44l.94 2.06.94-2.06 2.06-.94-2.06-.94-.94-2.06-.94 2.06-2.06.94zm-11 1L8.5 8.5l.94-2.06 2.06-.94-2.06-.94L8.5 2.5l-.94 2.06-2.06.94zm10 10l.94 2.06.94-2.06 2.06-.94-2.06-.94-.94-2.06-.94 2.06-2.06.94z\"/><path d=\"M17.41 7.96l-1.37-1.37c-.4-.4-.92-.59-1.43-.59-.52 0-1.04.2-1.43.59L10.3 9.45l-7.72 7.72c-.78.78-.78 2.05 0 2.83L4 21.41c.39.39.9.59 1.41.59.51 0 1.02-.2 1.41-.59l7.78-7.78 2.81-2.81c.8-.78.8-2.07 0-2.86zM5.41 20L4 18.59l7.72-7.72 1.47 1.35L5.41 20z\"/>\n",
              "  </svg>\n",
              "      </button>\n",
              "      \n",
              "  <style>\n",
              "    .colab-df-container {\n",
              "      display:flex;\n",
              "      flex-wrap:wrap;\n",
              "      gap: 12px;\n",
              "    }\n",
              "\n",
              "    .colab-df-convert {\n",
              "      background-color: #E8F0FE;\n",
              "      border: none;\n",
              "      border-radius: 50%;\n",
              "      cursor: pointer;\n",
              "      display: none;\n",
              "      fill: #1967D2;\n",
              "      height: 32px;\n",
              "      padding: 0 0 0 0;\n",
              "      width: 32px;\n",
              "    }\n",
              "\n",
              "    .colab-df-convert:hover {\n",
              "      background-color: #E2EBFA;\n",
              "      box-shadow: 0px 1px 2px rgba(60, 64, 67, 0.3), 0px 1px 3px 1px rgba(60, 64, 67, 0.15);\n",
              "      fill: #174EA6;\n",
              "    }\n",
              "\n",
              "    [theme=dark] .colab-df-convert {\n",
              "      background-color: #3B4455;\n",
              "      fill: #D2E3FC;\n",
              "    }\n",
              "\n",
              "    [theme=dark] .colab-df-convert:hover {\n",
              "      background-color: #434B5C;\n",
              "      box-shadow: 0px 1px 3px 1px rgba(0, 0, 0, 0.15);\n",
              "      filter: drop-shadow(0px 1px 2px rgba(0, 0, 0, 0.3));\n",
              "      fill: #FFFFFF;\n",
              "    }\n",
              "  </style>\n",
              "\n",
              "      <script>\n",
              "        const buttonEl =\n",
              "          document.querySelector('#df-9065835c-2322-4bf4-8e51-f1e11f7a5073 button.colab-df-convert');\n",
              "        buttonEl.style.display =\n",
              "          google.colab.kernel.accessAllowed ? 'block' : 'none';\n",
              "\n",
              "        async function convertToInteractive(key) {\n",
              "          const element = document.querySelector('#df-9065835c-2322-4bf4-8e51-f1e11f7a5073');\n",
              "          const dataTable =\n",
              "            await google.colab.kernel.invokeFunction('convertToInteractive',\n",
              "                                                     [key], {});\n",
              "          if (!dataTable) return;\n",
              "\n",
              "          const docLinkHtml = 'Like what you see? Visit the ' +\n",
              "            '<a target=\"_blank\" href=https://colab.research.google.com/notebooks/data_table.ipynb>data table notebook</a>'\n",
              "            + ' to learn more about interactive tables.';\n",
              "          element.innerHTML = '';\n",
              "          dataTable['output_type'] = 'display_data';\n",
              "          await google.colab.output.renderOutput(dataTable, element);\n",
              "          const docLink = document.createElement('div');\n",
              "          docLink.innerHTML = docLinkHtml;\n",
              "          element.appendChild(docLink);\n",
              "        }\n",
              "      </script>\n",
              "    </div>\n",
              "  </div>\n",
              "  "
            ]
          },
          "metadata": {},
          "execution_count": 6
        }
      ],
      "source": [
        "data[data['toxic'] == 1].sample(5)"
      ]
    },
    {
      "cell_type": "markdown",
      "id": "2c0e1940",
      "metadata": {
        "papermill": {
          "duration": 0.011997,
          "end_time": "2023-02-23T07:54:35.811731",
          "exception": false,
          "start_time": "2023-02-23T07:54:35.799734",
          "status": "completed"
        },
        "tags": [],
        "id": "2c0e1940"
      },
      "source": [
        "## Preprocessing\n"
      ]
    },
    {
      "cell_type": "code",
      "execution_count": 7,
      "id": "c99633ec",
      "metadata": {
        "execution": {
          "iopub.execute_input": "2023-02-23T07:54:35.837222Z",
          "iopub.status.busy": "2023-02-23T07:54:35.836395Z",
          "iopub.status.idle": "2023-02-23T07:54:35.841973Z",
          "shell.execute_reply": "2023-02-23T07:54:35.841124Z"
        },
        "papermill": {
          "duration": 0.020241,
          "end_time": "2023-02-23T07:54:35.843913",
          "exception": false,
          "start_time": "2023-02-23T07:54:35.823672",
          "status": "completed"
        },
        "tags": [],
        "id": "c99633ec"
      },
      "outputs": [],
      "source": [
        "from tensorflow.keras.layers import TextVectorization"
      ]
    },
    {
      "cell_type": "markdown",
      "id": "494a7d7e",
      "metadata": {
        "papermill": {
          "duration": 0.012324,
          "end_time": "2023-02-23T07:54:35.868052",
          "exception": false,
          "start_time": "2023-02-23T07:54:35.855728",
          "status": "completed"
        },
        "tags": [],
        "id": "494a7d7e"
      },
      "source": [
        "Splitting into X and y "
      ]
    },
    {
      "cell_type": "code",
      "execution_count": 8,
      "id": "a9f71c5e",
      "metadata": {
        "execution": {
          "iopub.execute_input": "2023-02-23T07:54:35.894536Z",
          "iopub.status.busy": "2023-02-23T07:54:35.893720Z",
          "iopub.status.idle": "2023-02-23T07:54:35.901643Z",
          "shell.execute_reply": "2023-02-23T07:54:35.900815Z"
        },
        "papermill": {
          "duration": 0.023713,
          "end_time": "2023-02-23T07:54:35.903717",
          "exception": false,
          "start_time": "2023-02-23T07:54:35.880004",
          "status": "completed"
        },
        "tags": [],
        "id": "a9f71c5e"
      },
      "outputs": [],
      "source": [
        "X = data['comment_text']\n",
        "y = data[data.columns[2:]].values"
      ]
    },
    {
      "cell_type": "markdown",
      "id": "69f91898",
      "metadata": {
        "papermill": {
          "duration": 0.011983,
          "end_time": "2023-02-23T07:54:35.927554",
          "exception": false,
          "start_time": "2023-02-23T07:54:35.915571",
          "status": "completed"
        },
        "tags": [],
        "id": "69f91898"
      },
      "source": [
        "Number of words in our vocabulary\n"
      ]
    },
    {
      "cell_type": "code",
      "execution_count": 10,
      "id": "9cfcf499",
      "metadata": {
        "execution": {
          "iopub.execute_input": "2023-02-23T07:54:35.953287Z",
          "iopub.status.busy": "2023-02-23T07:54:35.952480Z",
          "iopub.status.idle": "2023-02-23T07:54:35.956787Z",
          "shell.execute_reply": "2023-02-23T07:54:35.955801Z"
        },
        "papermill": {
          "duration": 0.01911,
          "end_time": "2023-02-23T07:54:35.958810",
          "exception": false,
          "start_time": "2023-02-23T07:54:35.939700",
          "status": "completed"
        },
        "tags": [],
        "id": "9cfcf499"
      },
      "outputs": [],
      "source": [
        "MAX_FEATURES = 200000"
      ]
    },
    {
      "cell_type": "code",
      "execution_count": 11,
      "id": "81a710ca",
      "metadata": {
        "execution": {
          "iopub.execute_input": "2023-02-23T07:54:35.983975Z",
          "iopub.status.busy": "2023-02-23T07:54:35.983242Z",
          "iopub.status.idle": "2023-02-23T07:54:38.787892Z",
          "shell.execute_reply": "2023-02-23T07:54:38.786597Z"
        },
        "papermill": {
          "duration": 2.820316,
          "end_time": "2023-02-23T07:54:38.790925",
          "exception": false,
          "start_time": "2023-02-23T07:54:35.970609",
          "status": "completed"
        },
        "tags": [],
        "id": "81a710ca"
      },
      "outputs": [],
      "source": [
        "vectorizer = TextVectorization(max_tokens = MAX_FEATURES, output_sequence_length = 1800, output_mode = 'int')"
      ]
    },
    {
      "cell_type": "markdown",
      "id": "94812cc4",
      "metadata": {
        "papermill": {
          "duration": 0.017639,
          "end_time": "2023-02-23T07:54:38.827421",
          "exception": false,
          "start_time": "2023-02-23T07:54:38.809782",
          "status": "completed"
        },
        "tags": [],
        "id": "94812cc4"
      },
      "source": [
        "We are using this 'TextVectorization' to create word embedding of training data. In other words we are creating numerical representations of our text data."
      ]
    },
    {
      "cell_type": "code",
      "execution_count": 12,
      "id": "ccbda88b",
      "metadata": {
        "execution": {
          "iopub.execute_input": "2023-02-23T07:54:38.864409Z",
          "iopub.status.busy": "2023-02-23T07:54:38.864030Z",
          "iopub.status.idle": "2023-02-23T07:54:51.861099Z",
          "shell.execute_reply": "2023-02-23T07:54:51.860103Z"
        },
        "papermill": {
          "duration": 13.018729,
          "end_time": "2023-02-23T07:54:51.863824",
          "exception": false,
          "start_time": "2023-02-23T07:54:38.845095",
          "status": "completed"
        },
        "tags": [],
        "id": "ccbda88b"
      },
      "outputs": [],
      "source": [
        "vectorizer.adapt(X.values)"
      ]
    },
    {
      "cell_type": "code",
      "execution_count": 13,
      "id": "398798b6",
      "metadata": {
        "execution": {
          "iopub.execute_input": "2023-02-23T07:54:51.890964Z",
          "iopub.status.busy": "2023-02-23T07:54:51.889287Z",
          "iopub.status.idle": "2023-02-23T07:54:57.408374Z",
          "shell.execute_reply": "2023-02-23T07:54:57.406937Z"
        },
        "papermill": {
          "duration": 5.534741,
          "end_time": "2023-02-23T07:54:57.410976",
          "exception": false,
          "start_time": "2023-02-23T07:54:51.876235",
          "status": "completed"
        },
        "tags": [],
        "colab": {
          "base_uri": "https://localhost:8080/"
        },
        "id": "398798b6",
        "outputId": "c512e00f-54d0-4be1-ef87-52ac96505b5f"
      },
      "outputs": [
        {
          "output_type": "stream",
          "name": "stdout",
          "text": [
            "['', '[UNK]', 'the', 'to', 'of', 'and', 'a', 'you', 'i', 'is', 'that', 'in', 'it', 'for', 'this', 'not', 'on', 'be', 'as', 'have', 'are', 'your', 'with', 'if', 'article', 'was', 'or', 'but', 'page', 'my', 'an', 'from', 'by', 'do', 'at', 'about', 'me', 'so', 'wikipedia', 'can', 'what', 'there', 'all', 'has', 'will', 'talk', 'please', 'would', 'its', 'no', 'one', 'just', 'like', 'they', 'he', 'dont', 'which', 'any', 'been', 'should', 'more', 'we', 'some', 'other', 'who', 'see', 'here', 'also', 'his', 'think', 'im', 'because', 'know', 'how', 'am', 'people', 'why', 'edit', 'articles', 'only', 'out', 'up', 'when', 'were', 'use', 'then', 'may', 'time', 'did', 'them', 'now', 'being', 'their', 'than', 'thanks', 'even', 'get', 'make', 'good', 'had']\n"
          ]
        }
      ],
      "source": [
        "print(vectorizer.get_vocabulary()[:100])"
      ]
    },
    {
      "cell_type": "code",
      "execution_count": 14,
      "id": "ec3b166a",
      "metadata": {
        "execution": {
          "iopub.execute_input": "2023-02-23T07:54:57.440314Z",
          "iopub.status.busy": "2023-02-23T07:54:57.440008Z",
          "iopub.status.idle": "2023-02-23T07:54:57.513087Z",
          "shell.execute_reply": "2023-02-23T07:54:57.512177Z"
        },
        "papermill": {
          "duration": 0.08956,
          "end_time": "2023-02-23T07:54:57.515376",
          "exception": false,
          "start_time": "2023-02-23T07:54:57.425816",
          "status": "completed"
        },
        "tags": [],
        "colab": {
          "base_uri": "https://localhost:8080/"
        },
        "id": "ec3b166a",
        "outputId": "ed17a9d1-fd3c-40ab-c85a-a4b23cbc8c10"
      },
      "outputs": [
        {
          "output_type": "stream",
          "name": "stdout",
          "text": [
            "tf.Tensor([288  73  20   7   0], shape=(5,), dtype=int64)\n"
          ]
        }
      ],
      "source": [
        "print(vectorizer(\"Hello, How are you?\")[:5])"
      ]
    },
    {
      "cell_type": "code",
      "execution_count": 15,
      "id": "6c308d36",
      "metadata": {
        "execution": {
          "iopub.execute_input": "2023-02-23T07:54:57.540870Z",
          "iopub.status.busy": "2023-02-23T07:54:57.540567Z",
          "iopub.status.idle": "2023-02-23T07:55:02.174141Z",
          "shell.execute_reply": "2023-02-23T07:55:02.172698Z"
        },
        "papermill": {
          "duration": 4.649122,
          "end_time": "2023-02-23T07:55:02.176670",
          "exception": false,
          "start_time": "2023-02-23T07:54:57.527548",
          "status": "completed"
        },
        "tags": [],
        "colab": {
          "base_uri": "https://localhost:8080/"
        },
        "id": "6c308d36",
        "outputId": "e1fdb156-0eb2-4885-ee9d-e846ad38294a"
      },
      "outputs": [
        {
          "output_type": "stream",
          "name": "stdout",
          "text": [
            "CPU times: user 2.82 s, sys: 1.65 s, total: 4.47 s\n",
            "Wall time: 4.47 s\n"
          ]
        }
      ],
      "source": [
        "%%time\n",
        "vectorized_text = vectorizer(X.values)"
      ]
    },
    {
      "cell_type": "code",
      "execution_count": 16,
      "id": "7c3360d6",
      "metadata": {
        "execution": {
          "iopub.execute_input": "2023-02-23T07:55:02.204647Z",
          "iopub.status.busy": "2023-02-23T07:55:02.204351Z",
          "iopub.status.idle": "2023-02-23T07:55:02.211349Z",
          "shell.execute_reply": "2023-02-23T07:55:02.210187Z"
        },
        "papermill": {
          "duration": 0.0254,
          "end_time": "2023-02-23T07:55:02.214963",
          "exception": false,
          "start_time": "2023-02-23T07:55:02.189563",
          "status": "completed"
        },
        "tags": [],
        "colab": {
          "base_uri": "https://localhost:8080/"
        },
        "id": "7c3360d6",
        "outputId": "11f518c7-420d-4a7d-a461-d3c57daa9bb4"
      },
      "outputs": [
        {
          "output_type": "execute_result",
          "data": {
            "text/plain": [
              "<tf.Tensor: shape=(159571, 1800), dtype=int64, numpy=\n",
              "array([[  645,    76,     2, ...,     0,     0,     0],\n",
              "       [    1,    54,  2489, ...,     0,     0,     0],\n",
              "       [  425,   441,    70, ...,     0,     0,     0],\n",
              "       ...,\n",
              "       [32445,  7392,   383, ...,     0,     0,     0],\n",
              "       [    5,    12,   534, ...,     0,     0,     0],\n",
              "       [    5,     8,   130, ...,     0,     0,     0]])>"
            ]
          },
          "metadata": {},
          "execution_count": 16
        }
      ],
      "source": [
        "vectorized_text"
      ]
    },
    {
      "cell_type": "markdown",
      "id": "0d11a129",
      "metadata": {
        "papermill": {
          "duration": 0.012445,
          "end_time": "2023-02-23T07:55:02.240325",
          "exception": false,
          "start_time": "2023-02-23T07:55:02.227880",
          "status": "completed"
        },
        "tags": [],
        "id": "0d11a129"
      },
      "source": [
        "data pipeline for tensorflow"
      ]
    },
    {
      "cell_type": "code",
      "execution_count": 17,
      "id": "67d09ee9",
      "metadata": {
        "execution": {
          "iopub.execute_input": "2023-02-23T07:55:02.270208Z",
          "iopub.status.busy": "2023-02-23T07:55:02.269881Z",
          "iopub.status.idle": "2023-02-23T07:55:02.288749Z",
          "shell.execute_reply": "2023-02-23T07:55:02.287719Z"
        },
        "papermill": {
          "duration": 0.037389,
          "end_time": "2023-02-23T07:55:02.291480",
          "exception": false,
          "start_time": "2023-02-23T07:55:02.254091",
          "status": "completed"
        },
        "tags": [],
        "id": "67d09ee9"
      },
      "outputs": [],
      "source": [
        "dataset = tf.data.Dataset.from_tensor_slices((vectorized_text, y))\n",
        "dataset = dataset.cache()\n",
        "dataset = dataset.shuffle(160000)\n",
        "dataset = dataset.batch(16)\n",
        "dataset = dataset.prefetch(8)"
      ]
    },
    {
      "cell_type": "code",
      "execution_count": 18,
      "id": "80af15f9",
      "metadata": {
        "execution": {
          "iopub.execute_input": "2023-02-23T07:55:02.321634Z",
          "iopub.status.busy": "2023-02-23T07:55:02.320702Z",
          "iopub.status.idle": "2023-02-23T07:55:04.637399Z",
          "shell.execute_reply": "2023-02-23T07:55:04.636385Z"
        },
        "papermill": {
          "duration": 2.335,
          "end_time": "2023-02-23T07:55:04.640577",
          "exception": false,
          "start_time": "2023-02-23T07:55:02.305577",
          "status": "completed"
        },
        "tags": [],
        "id": "80af15f9"
      },
      "outputs": [],
      "source": [
        "batch_X, batch_y = dataset.as_numpy_iterator().next()"
      ]
    },
    {
      "cell_type": "code",
      "execution_count": 19,
      "id": "f0a685dc",
      "metadata": {
        "execution": {
          "iopub.execute_input": "2023-02-23T07:55:04.677472Z",
          "iopub.status.busy": "2023-02-23T07:55:04.676999Z",
          "iopub.status.idle": "2023-02-23T07:55:04.682667Z",
          "shell.execute_reply": "2023-02-23T07:55:04.681604Z"
        },
        "papermill": {
          "duration": 0.029524,
          "end_time": "2023-02-23T07:55:04.688065",
          "exception": false,
          "start_time": "2023-02-23T07:55:04.658541",
          "status": "completed"
        },
        "tags": [],
        "colab": {
          "base_uri": "https://localhost:8080/"
        },
        "id": "f0a685dc",
        "outputId": "f7262556-44f8-48e2-ab7f-d761cdec29c2"
      },
      "outputs": [
        {
          "output_type": "stream",
          "name": "stdout",
          "text": [
            "(16, 1800) (16, 6)\n"
          ]
        }
      ],
      "source": [
        "print(batch_X.shape, batch_y.shape)"
      ]
    },
    {
      "cell_type": "markdown",
      "id": "593d7b54",
      "metadata": {
        "papermill": {
          "duration": 0.019173,
          "end_time": "2023-02-23T07:55:04.725680",
          "exception": false,
          "start_time": "2023-02-23T07:55:04.706507",
          "status": "completed"
        },
        "tags": [],
        "id": "593d7b54"
      },
      "source": [
        "## train, val, test\n"
      ]
    },
    {
      "cell_type": "code",
      "execution_count": 20,
      "id": "3f6f9a67",
      "metadata": {
        "execution": {
          "iopub.execute_input": "2023-02-23T07:55:04.765486Z",
          "iopub.status.busy": "2023-02-23T07:55:04.764964Z",
          "iopub.status.idle": "2023-02-23T07:55:04.779218Z",
          "shell.execute_reply": "2023-02-23T07:55:04.778225Z"
        },
        "papermill": {
          "duration": 0.036428,
          "end_time": "2023-02-23T07:55:04.781419",
          "exception": false,
          "start_time": "2023-02-23T07:55:04.744991",
          "status": "completed"
        },
        "tags": [],
        "id": "3f6f9a67"
      },
      "outputs": [],
      "source": [
        "train = dataset.take(int(len(dataset)*.7))\n",
        "val = dataset.skip(int(len(dataset)*.7)).take(int(len(dataset)*.2))\n",
        "test = dataset.skip(int(len(dataset)*.9)).take(int(len(dataset)*.1))"
      ]
    },
    {
      "cell_type": "code",
      "execution_count": 21,
      "id": "8a00fc6f",
      "metadata": {
        "execution": {
          "iopub.execute_input": "2023-02-23T07:55:04.812999Z",
          "iopub.status.busy": "2023-02-23T07:55:04.812332Z",
          "iopub.status.idle": "2023-02-23T07:55:04.819042Z",
          "shell.execute_reply": "2023-02-23T07:55:04.817830Z"
        },
        "papermill": {
          "duration": 0.025272,
          "end_time": "2023-02-23T07:55:04.821499",
          "exception": false,
          "start_time": "2023-02-23T07:55:04.796227",
          "status": "completed"
        },
        "tags": [],
        "colab": {
          "base_uri": "https://localhost:8080/"
        },
        "id": "8a00fc6f",
        "outputId": "e192e135-e9c8-40d3-ca77-56be0519dfac"
      },
      "outputs": [
        {
          "output_type": "stream",
          "name": "stdout",
          "text": [
            "Training Examples: 6981, Validation Examples: 1994, Test Examples: 997\n"
          ]
        }
      ],
      "source": [
        "print(f'Training Examples: {len(train)}, Validation Examples: {len(val)}, Test Examples: {len(test)}')"
      ]
    },
    {
      "cell_type": "markdown",
      "id": "43a16091",
      "metadata": {
        "papermill": {
          "duration": 0.013922,
          "end_time": "2023-02-23T07:55:04.849495",
          "exception": false,
          "start_time": "2023-02-23T07:55:04.835573",
          "status": "completed"
        },
        "tags": [],
        "id": "43a16091"
      },
      "source": [
        "## Neural Network\n"
      ]
    },
    {
      "cell_type": "code",
      "execution_count": 22,
      "id": "3405d3e5",
      "metadata": {
        "execution": {
          "iopub.execute_input": "2023-02-23T07:55:04.880730Z",
          "iopub.status.busy": "2023-02-23T07:55:04.878862Z",
          "iopub.status.idle": "2023-02-23T07:55:04.885379Z",
          "shell.execute_reply": "2023-02-23T07:55:04.884401Z"
        },
        "papermill": {
          "duration": 0.024029,
          "end_time": "2023-02-23T07:55:04.887631",
          "exception": false,
          "start_time": "2023-02-23T07:55:04.863602",
          "status": "completed"
        },
        "tags": [],
        "id": "3405d3e5"
      },
      "outputs": [],
      "source": [
        "from tensorflow.keras.models import Sequential\n",
        "from tensorflow.keras.layers import LSTM, Dropout, Bidirectional, Dense, Embedding"
      ]
    },
    {
      "cell_type": "code",
      "execution_count": 23,
      "id": "ff2b6098",
      "metadata": {
        "execution": {
          "iopub.execute_input": "2023-02-23T07:55:04.918089Z",
          "iopub.status.busy": "2023-02-23T07:55:04.917219Z",
          "iopub.status.idle": "2023-02-23T07:55:04.924692Z",
          "shell.execute_reply": "2023-02-23T07:55:04.923716Z"
        },
        "papermill": {
          "duration": 0.02476,
          "end_time": "2023-02-23T07:55:04.926919",
          "exception": false,
          "start_time": "2023-02-23T07:55:04.902159",
          "status": "completed"
        },
        "tags": [],
        "id": "ff2b6098"
      },
      "outputs": [],
      "source": [
        "def build_model():\n",
        "    model = Sequential()\n",
        "    # Embedding layer\n",
        "    model.add(Embedding(MAX_FEATURES+1, 32))\n",
        "    # Bidirectional LSTM layer\n",
        "    model.add(Bidirectional(LSTM(32, activation= 'tanh')))\n",
        "    #  dense layers\n",
        "    model.add(Dense(128, activation= 'relu'))\n",
        "    model.add(Dense(256, activation= 'relu'))\n",
        "    model.add(Dense(128, activation= 'relu'))\n",
        "    # final layer with multiple outputs\n",
        "    model.add(Dense(6, activation= 'sigmoid'))\n",
        "    # Compiling the model\n",
        "    model.compile(loss= 'BinaryCrossentropy', optimizer= 'Adam')\n",
        "    \n",
        "    return model"
      ]
    },
    {
      "cell_type": "code",
      "execution_count": 24,
      "id": "18c7fe36",
      "metadata": {
        "execution": {
          "iopub.execute_input": "2023-02-23T07:55:04.955309Z",
          "iopub.status.busy": "2023-02-23T07:55:04.954485Z",
          "iopub.status.idle": "2023-02-23T07:55:05.510245Z",
          "shell.execute_reply": "2023-02-23T07:55:05.509337Z"
        },
        "papermill": {
          "duration": 0.579993,
          "end_time": "2023-02-23T07:55:05.520909",
          "exception": false,
          "start_time": "2023-02-23T07:55:04.940916",
          "status": "completed"
        },
        "tags": [],
        "colab": {
          "base_uri": "https://localhost:8080/"
        },
        "id": "18c7fe36",
        "outputId": "a69be662-4894-4472-ee6c-328ef8038dc0"
      },
      "outputs": [
        {
          "output_type": "stream",
          "name": "stdout",
          "text": [
            "Model: \"sequential\"\n",
            "_________________________________________________________________\n",
            " Layer (type)                Output Shape              Param #   \n",
            "=================================================================\n",
            " embedding (Embedding)       (None, None, 32)          6400032   \n",
            "                                                                 \n",
            " bidirectional (Bidirectiona  (None, 64)               16640     \n",
            " l)                                                              \n",
            "                                                                 \n",
            " dense (Dense)               (None, 128)               8320      \n",
            "                                                                 \n",
            " dense_1 (Dense)             (None, 256)               33024     \n",
            "                                                                 \n",
            " dense_2 (Dense)             (None, 128)               32896     \n",
            "                                                                 \n",
            " dense_3 (Dense)             (None, 6)                 774       \n",
            "                                                                 \n",
            "=================================================================\n",
            "Total params: 6,491,686\n",
            "Trainable params: 6,491,686\n",
            "Non-trainable params: 0\n",
            "_________________________________________________________________\n"
          ]
        }
      ],
      "source": [
        "model = build_model()\n",
        "model.summary()"
      ]
    },
    {
      "cell_type": "code",
      "execution_count": 31,
      "id": "37a547c3",
      "metadata": {
        "execution": {
          "iopub.execute_input": "2023-02-23T07:55:05.549109Z",
          "iopub.status.busy": "2023-02-23T07:55:05.548817Z",
          "iopub.status.idle": "2023-02-23T12:41:01.790507Z",
          "shell.execute_reply": "2023-02-23T12:41:01.789399Z"
        },
        "papermill": {
          "duration": 17165.923507,
          "end_time": "2023-02-23T12:41:11.458068",
          "exception": false,
          "start_time": "2023-02-23T07:55:05.534561",
          "status": "completed"
        },
        "tags": [],
        "colab": {
          "base_uri": "https://localhost:8080/"
        },
        "id": "37a547c3",
        "outputId": "bcb2656a-de25-42a0-9a58-217650bf2e1b"
      },
      "outputs": [
        {
          "output_type": "stream",
          "name": "stdout",
          "text": [
            "6981/6981 [==============================] - 661s 95ms/step - loss: 0.0589 - val_loss: 0.0487\n",
            "CPU times: user 10min 43s, sys: 10.2 s, total: 10min 53s\n",
            "Wall time: 11min\n"
          ]
        }
      ],
      "source": [
        "%%time\n",
        "# Training the model\n",
        "history = model.fit(train, epochs = 1, validation_data= val)"
      ]
    },
    {
      "cell_type": "code",
      "source": [],
      "metadata": {
        "colab": {
          "base_uri": "https://localhost:8080/",
          "height": 391
        },
        "id": "wDXMW_JHByzS",
        "outputId": "a7dd60d3-37af-4d01-e227-495f6cafe27b"
      },
      "id": "wDXMW_JHByzS",
      "execution_count": 67,
      "outputs": [
        {
          "output_type": "error",
          "ename": "ValueError",
          "evalue": "ignored",
          "traceback": [
            "\u001b[0;31m---------------------------------------------------------------------------\u001b[0m",
            "\u001b[0;31mValueError\u001b[0m                                Traceback (most recent call last)",
            "\u001b[0;32m<timed eval>\u001b[0m in \u001b[0;36m<module>\u001b[0;34m\u001b[0m\n",
            "\u001b[0;32m/usr/local/lib/python3.9/dist-packages/keras/utils/traceback_utils.py\u001b[0m in \u001b[0;36merror_handler\u001b[0;34m(*args, **kwargs)\u001b[0m\n\u001b[1;32m     68\u001b[0m             \u001b[0;31m# To get the full stack trace, call:\u001b[0m\u001b[0;34m\u001b[0m\u001b[0;34m\u001b[0m\u001b[0m\n\u001b[1;32m     69\u001b[0m             \u001b[0;31m# `tf.debugging.disable_traceback_filtering()`\u001b[0m\u001b[0;34m\u001b[0m\u001b[0;34m\u001b[0m\u001b[0m\n\u001b[0;32m---> 70\u001b[0;31m             \u001b[0;32mraise\u001b[0m \u001b[0me\u001b[0m\u001b[0;34m.\u001b[0m\u001b[0mwith_traceback\u001b[0m\u001b[0;34m(\u001b[0m\u001b[0mfiltered_tb\u001b[0m\u001b[0;34m)\u001b[0m \u001b[0;32mfrom\u001b[0m \u001b[0;32mNone\u001b[0m\u001b[0;34m\u001b[0m\u001b[0;34m\u001b[0m\u001b[0m\n\u001b[0m\u001b[1;32m     71\u001b[0m         \u001b[0;32mfinally\u001b[0m\u001b[0;34m:\u001b[0m\u001b[0;34m\u001b[0m\u001b[0;34m\u001b[0m\u001b[0m\n\u001b[1;32m     72\u001b[0m             \u001b[0;32mdel\u001b[0m \u001b[0mfiltered_tb\u001b[0m\u001b[0;34m\u001b[0m\u001b[0;34m\u001b[0m\u001b[0m\n",
            "\u001b[0;32m/usr/local/lib/python3.9/dist-packages/keras/engine/data_adapter.py\u001b[0m in \u001b[0;36m__init__\u001b[0;34m(self, x, y, sample_weights, sample_weight_modes, batch_size, epochs, steps, shuffle, **kwargs)\u001b[0m\n\u001b[1;32m    262\u001b[0m         \u001b[0;31m# If batch_size is not passed but steps is, calculate from the input\u001b[0m\u001b[0;34m\u001b[0m\u001b[0;34m\u001b[0m\u001b[0m\n\u001b[1;32m    263\u001b[0m         \u001b[0;31m# data.  Default to 32 for backwards compat.\u001b[0m\u001b[0;34m\u001b[0m\u001b[0;34m\u001b[0m\u001b[0m\n\u001b[0;32m--> 264\u001b[0;31m         \u001b[0;32mif\u001b[0m \u001b[0;32mnot\u001b[0m \u001b[0mbatch_size\u001b[0m\u001b[0;34m:\u001b[0m\u001b[0;34m\u001b[0m\u001b[0;34m\u001b[0m\u001b[0m\n\u001b[0m\u001b[1;32m    265\u001b[0m             \u001b[0mbatch_size\u001b[0m \u001b[0;34m=\u001b[0m \u001b[0mint\u001b[0m\u001b[0;34m(\u001b[0m\u001b[0mmath\u001b[0m\u001b[0;34m.\u001b[0m\u001b[0mceil\u001b[0m\u001b[0;34m(\u001b[0m\u001b[0mnum_samples\u001b[0m \u001b[0;34m/\u001b[0m \u001b[0msteps\u001b[0m\u001b[0;34m)\u001b[0m\u001b[0;34m)\u001b[0m \u001b[0;32mif\u001b[0m \u001b[0msteps\u001b[0m \u001b[0;32melse\u001b[0m \u001b[0;36m32\u001b[0m\u001b[0;34m\u001b[0m\u001b[0;34m\u001b[0m\u001b[0m\n\u001b[1;32m    266\u001b[0m \u001b[0;34m\u001b[0m\u001b[0m\n",
            "\u001b[0;31mValueError\u001b[0m: The truth value of an array with more than one element is ambiguous. Use a.any() or a.all()"
          ]
        }
      ]
    },
    {
      "cell_type": "code",
      "execution_count": 33,
      "id": "82ad573f",
      "metadata": {
        "execution": {
          "iopub.execute_input": "2023-02-23T12:41:32.048456Z",
          "iopub.status.busy": "2023-02-23T12:41:32.048101Z",
          "iopub.status.idle": "2023-02-23T12:41:32.054594Z",
          "shell.execute_reply": "2023-02-23T12:41:32.053724Z"
        },
        "papermill": {
          "duration": 10.447438,
          "end_time": "2023-02-23T12:41:32.056497",
          "exception": false,
          "start_time": "2023-02-23T12:41:21.609059",
          "status": "completed"
        },
        "tags": [],
        "colab": {
          "base_uri": "https://localhost:8080/"
        },
        "id": "82ad573f",
        "outputId": "7e6050d9-3c2c-4dc1-ac31-36e977c31727"
      },
      "outputs": [
        {
          "output_type": "execute_result",
          "data": {
            "text/plain": [
              "{'loss': [0.05893781781196594], 'val_loss': [0.04865012317895889]}"
            ]
          },
          "metadata": {},
          "execution_count": 33
        }
      ],
      "source": [
        "history.history\n"
      ]
    },
    {
      "cell_type": "code",
      "execution_count": 67,
      "id": "f1e1cc9c",
      "metadata": {
        "execution": {
          "iopub.execute_input": "2023-02-23T12:42:12.216488Z",
          "iopub.status.busy": "2023-02-23T12:42:12.216123Z",
          "iopub.status.idle": "2023-02-23T12:42:12.487680Z",
          "shell.execute_reply": "2023-02-23T12:42:12.486803Z"
        },
        "papermill": {
          "duration": 10.296048,
          "end_time": "2023-02-23T12:42:12.489597",
          "exception": false,
          "start_time": "2023-02-23T12:42:02.193549",
          "status": "completed"
        },
        "tags": [],
        "id": "f1e1cc9c"
      },
      "outputs": [],
      "source": [
        "input_text = vectorizer(\"Fuck you bitch\")"
      ]
    },
    {
      "cell_type": "code",
      "execution_count": 61,
      "id": "ec1589f6",
      "metadata": {
        "execution": {
          "iopub.execute_input": "2023-02-23T12:43:13.358603Z",
          "iopub.status.busy": "2023-02-23T12:43:13.358242Z",
          "iopub.status.idle": "2023-02-23T12:43:14.248829Z",
          "shell.execute_reply": "2023-02-23T12:43:14.247919Z"
        },
        "papermill": {
          "duration": 10.95632,
          "end_time": "2023-02-23T12:43:14.251064",
          "exception": false,
          "start_time": "2023-02-23T12:43:03.294744",
          "status": "completed"
        },
        "tags": [],
        "colab": {
          "base_uri": "https://localhost:8080/"
        },
        "id": "ec1589f6",
        "outputId": "2b62cf6b-f444-47e6-ef71-1d67c9e28bf2"
      },
      "outputs": [
        {
          "output_type": "stream",
          "name": "stdout",
          "text": [
            "1/1 [==============================] - 0s 52ms/step\n"
          ]
        }
      ],
      "source": [
        "res = model.predict(np.expand_dims(input_text, 0))"
      ]
    },
    {
      "cell_type": "code",
      "source": [
        "res"
      ],
      "metadata": {
        "colab": {
          "base_uri": "https://localhost:8080/"
        },
        "id": "VuULaOcrCTFY",
        "outputId": "f9282e7b-57c3-472d-98e9-3b9a12295467"
      },
      "id": "VuULaOcrCTFY",
      "execution_count": 62,
      "outputs": [
        {
          "output_type": "execute_result",
          "data": {
            "text/plain": [
              "array([[0.99972755, 0.40807196, 0.9861391 , 0.01927693, 0.8981676 ,\n",
              "        0.13493586]], dtype=float32)"
            ]
          },
          "metadata": {},
          "execution_count": 62
        }
      ]
    },
    {
      "cell_type": "markdown",
      "source": [
        "### result = [toxic, severe_toxic, obscene, threat, insult, identity_hate] "
      ],
      "metadata": {
        "id": "uxjaeKQ9DLiO"
      },
      "id": "uxjaeKQ9DLiO"
    },
    {
      "cell_type": "code",
      "execution_count": 63,
      "id": "e2384fd2",
      "metadata": {
        "execution": {
          "iopub.execute_input": "2023-02-23T12:43:34.411006Z",
          "iopub.status.busy": "2023-02-23T12:43:34.410518Z",
          "iopub.status.idle": "2023-02-23T12:43:34.425519Z",
          "shell.execute_reply": "2023-02-23T12:43:34.424071Z"
        },
        "papermill": {
          "duration": 10.502093,
          "end_time": "2023-02-23T12:43:34.429992",
          "exception": false,
          "start_time": "2023-02-23T12:43:23.927899",
          "status": "completed"
        },
        "tags": [],
        "colab": {
          "base_uri": "https://localhost:8080/"
        },
        "id": "e2384fd2",
        "outputId": "fbc04bf8-8936-404f-ab81-152992067a38"
      },
      "outputs": [
        {
          "output_type": "execute_result",
          "data": {
            "text/plain": [
              "array([[1, 1, 1, 0, 1, 0]])"
            ]
          },
          "metadata": {},
          "execution_count": 63
        }
      ],
      "source": [
        "(res > 0.4).astype('int')"
      ]
    }
  ],
  "metadata": {
    "kernelspec": {
      "display_name": "Python 3",
      "language": "python",
      "name": "python3"
    },
    "language_info": {
      "codemirror_mode": {
        "name": "ipython",
        "version": 3
      },
      "file_extension": ".py",
      "mimetype": "text/x-python",
      "name": "python",
      "nbconvert_exporter": "python",
      "pygments_lexer": "ipython3",
      "version": "3.7.12"
    },
    "papermill": {
      "default_parameters": {},
      "duration": 18064.784781,
      "end_time": "2023-02-23T12:55:23.174723",
      "environment_variables": {},
      "exception": null,
      "input_path": "__notebook__.ipynb",
      "output_path": "__notebook__.ipynb",
      "parameters": {},
      "start_time": "2023-02-23T07:54:18.389942",
      "version": "2.3.4"
    },
    "colab": {
      "provenance": []
    },
    "accelerator": "GPU",
    "gpuClass": "standard"
  },
  "nbformat": 4,
  "nbformat_minor": 5
}